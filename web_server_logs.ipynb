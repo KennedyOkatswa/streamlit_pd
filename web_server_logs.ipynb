{
  "cells": [
    {
      "cell_type": "code",
      "execution_count": null,
      "metadata": {
        "colab": {
          "base_uri": "https://localhost:8080/"
        },
        "id": "JUTFZwAADyJi",
        "outputId": "dc8041a7-84d7-4c24-ea81-2b64809d6101"
      },
      "outputs": [
        {
          "output_type": "stream",
          "name": "stdout",
          "text": [
            "Mounted at /content/drive/\n"
          ]
        }
      ],
      "source": [
        "from google.colab import drive\n",
        "import os\n",
        "\n",
        "drive.mount('/content/drive/')"
      ]
    },
    {
      "cell_type": "code",
      "execution_count": null,
      "metadata": {
        "colab": {
          "base_uri": "https://localhost:8080/",
          "height": 36
        },
        "id": "9Mh1j5ftMOS4",
        "outputId": "c9f91ca9-f0c8-4d18-d4fc-d50c3c5c76a9"
      },
      "outputs": [
        {
          "output_type": "execute_result",
          "data": {
            "text/plain": [
              "'/content'"
            ],
            "application/vnd.google.colaboratory.intrinsic+json": {
              "type": "string"
            }
          },
          "metadata": {},
          "execution_count": 2
        }
      ],
      "source": [
        "os.getcwd()"
      ]
    },
    {
      "cell_type": "code",
      "execution_count": null,
      "metadata": {
        "id": "JgAf0TRFFzHL"
      },
      "outputs": [],
      "source": [
        "os.chdir(\"drive/My Drive/prod_dev\")"
      ]
    },
    {
      "cell_type": "markdown",
      "source": [],
      "metadata": {
        "id": "NSFKJGMI8kUO"
      }
    },
    {
      "cell_type": "code",
      "execution_count": null,
      "metadata": {
        "id": "YAlUcFZxkc3V"
      },
      "outputs": [],
      "source": [
        "'''import random\n",
        "import datetime\n",
        "\n",
        "def generate_ip_address():\n",
        "    \"\"\"Generate a random IP address.\"\"\"\n",
        "    return \".\".join(str(random.randint(0, 255)) for _ in range(4))\n",
        "\n",
        "def generate_timestamp():\n",
        "    \"\"\"Generate a random timestamp.\"\"\"\n",
        "    start = datetime.datetime(2023, 1, 1)\n",
        "    end = datetime.datetime(2023, 5, 7)\n",
        "    delta = end - start\n",
        "    int_delta = (delta.days * 24 * 60 * 60) + delta.seconds\n",
        "    random_second = random.randrange(int_delta)\n",
        "    return start + datetime.timedelta(seconds=random_second)\n",
        "\n",
        "def generate_request():\n",
        "    \"\"\"Generate a random request method, URL, and HTTP version.\"\"\"\n",
        "    methods = [\"GET\"] * 10 + [ \"POST\"] * 4 + [\"PUT\"]\n",
        "    urls = [\"olympics.com/en\", \"/\", \"olympics.com/en/news/2023-asian-weightlifting-championships-preview-schedule-athletes\" ,\"olympics.com/en/sports/football\", \"olympics.com/en/sports/fencing\", \"olympics.com/en/sports/golf\", \"olympics.com/en/sports/boxing\", \"olympics.com/en/sports/basketball\",\n",
        "            \"olympics.com/en/sports/table_tennis\", \"olympics.com/en/sports/gymnastics\", \"olympics.com/en/sports/archery\", \"olympics.com/en/sports/cycling\", \n",
        "            \"olympics.com/en/news/european-breaking-championships-2023-b-boy-menno-and-b-girl-nicka-claim-gold-med\", \"olympics.com/en/news/giro-italia-2023-daily-stage-results-general-classification-standings\",\n",
        "            \"olympics.com/en/news/jai-hindley-2022-giro-italia-winner-verona\", \"olympics.com/en/video/womens-team-gb-uneven-bars-performance-tokyo-2020-games\", \n",
        "            \"olympics.com/en/video/sakamoto-kaori-interview-resilience-focus-future?uxreference=playlist\", \"olympics.com/en/video/rio-2016-lalita-babar-steeplechase-national-record?uxreference=playlist\", \n",
        "            \"olympics.com/en/olympic-games/olympic-results\", \"olympics.com/en/athletes/serena-williams\", \"olympics.com/en/athletes/yaroslava-mahuchikh\", \"olympics.com/en/athletes/filipe-toledo\", \n",
        "            \"olympics.com/en/sport-events/2023-ifma-muaythai-world-championships-bangkok/broadcasting-schedule\", \"olympics.com/en/original-series/episode/this-future-star-of-japanese-judo-is-following-in-his-father-s-footsteps-heroes-\",\n",
        "            \"olympics.com/en/original-series/episode/meet-japan-s-16-years-old-sport-climbing-sensation-heroes-of-the-future-japan?uxreference=playlist\", \"olympics.com/en/original-series/episode/kyoto-born-bmx-rider-is-going-for-glory-at-tokyo-2020-heroes-of-the-future-japan?uxreference=playlist\",\n",
        "            \"olympics.com/en/sport-events/\", \"olympics.com/en/olympic-games/tokyo-2020\", \"olympics.com/en/sport-events/2023-wr-rugby-sevens-olympic-qualifier-women-s-world-series-final-toulouse/\", \"olympics.com/en/live/\", \n",
        "            \"olympics.com/en/video/fencing-olympic-qualifier-semi-finals-finals-grand-prix-epee-cali\", \"olympics.com/en/original-series/can-t-stay-down/\", \"olympics.com/en/original-series/kids-call/\", \"olympics.com/en/original-series/winter-tracks/\", \n",
        "            \"olympics.com/en/original-series/world-at-their-feet/\", \"olympics.com/en/original-series/by-her-rules/\", \"olympics.com/en/original-series/olympic-outposts/\", \"olympics.com/en/original-series/heroes-of-the-future-japan/\", \"olympics.com/en/original-series/hockey-wizards/\", \n",
        "            \"olympics.com/en/video/sport-highlights-beijing-2022-curling-men-s-round-robin-nor-ita-day-13\",\"olympics.com/en/athletes/serena-williams\" ,\"olympics.com/en/video/indian-hockey-forward-mandeep-singh-interview?uxreference=playlist\", \"olympics.com/en/athletes/winfred-mutile-yavi\",\n",
        "            \"olympics.com/en/athletes/alaa-maso\", \"olympics.com/en/athletes/eliud-kipchoge\", \"olympics.com/en/esports/\", \"olympics.com/en/search/all/football\", \"olympics.com/en/search/all/swimming\", \"olympics.com/en/search/all/hockey\", \"olympics.com/en/search/all/boxing\", \"olympics.com/en/search/all/cycling\", \"olympics.com/en/search/all/golf\", \"olympics.com/en/search/all/fencing\", \n",
        "            \"olympics.com/en/sign-in?origin=https://olympics.com/en/esports/\", \"olympics.com/en/search/all/Katie%20ledecky\",\"olympics.com/en/search/all/Filipe%20toledo\", \"olympics.com/en/search/all/Yuto%20HORIGOME\", \"olympics.com/en/search/all/Eliud%20Kipchoge\", \"olympics.com/en/podcast/podcast-team-gb-paralympic-rowing-erin-kennedy-cancer\", \n",
        "            \"olympics.com/en/podcast/mental-health-elite-sports-podcast\", \"olympics.com/en/podcast/pau-gasol-nba-olympics-kobe-interview\", \"olympics.com/en/sport-events/muaythai-combat-preliminaries-2-world-championships-bangkok\", \"olympics.com/en/sport-events/muaythai-combat-preliminaries-2-world-championships-bangkok\",\n",
        "            \"olympics.com/en/sport-events/muaythai-combat-preliminaries-1-world-championships-bangkok\", \"olympics.com/en/sport-events/2023-fie-fencing-olympic-qualifier-grand-prix-epee-cali/\", \"olympics.com/en/olympic-games/beijing-2022\" ,\"olympics.com/en/sport-events/2023-wr-rugby-sevens-olympic-qualifier-women-s-world-series-final-toulouse/\"]\n",
        "    http_versions = [\"HTTP/1.0\", \"HTTP/1.1\", \"HTTP/2.0\"]\n",
        "    method = random.choice(methods)\n",
        "    url = random.choice(urls)\n",
        "    http_version = random.choice(http_versions)\n",
        "    return f\"{method}, {url}, {http_version}\"\n",
        "\n",
        "def generate_status_code():\n",
        "    \"\"\"Generate a random HTTP status code.\"\"\"\n",
        "    status_codes = [200] * 10 + [201] * 7 + [202] * 4 + [204, 302, 503]\n",
        "    return random.choice(status_codes)\n",
        "\n",
        "def generate_log_entry():\n",
        "    \"\"\"Generate a random web server log entry.\"\"\"\n",
        "    ip_address = generate_ip_address()\n",
        "    timestamp = generate_timestamp()\n",
        "    request = generate_request()\n",
        "    status_code = generate_status_code()\n",
        "    return f\"{timestamp.strftime('%d/%b/%Y %H:%M:%S %z')},{ip_address}, {request},{status_code},{random.randint(100, 10000)}\\n\"\n",
        "\n",
        "# Generate 1000 web server log entries and write them to a file\n",
        "with open(\"web_server_logs.txt\", \"w\") as f:\n",
        "    for i in range(5000):\n",
        "        log_entry = generate_log_entry()\n",
        "        f.write(log_entry)\n",
        "'''"
      ]
    },
    {
      "cell_type": "code",
      "source": [
        "'''import random\n",
        "import requests\n",
        "\n",
        "def generate_realistic_ip():\n",
        "    # Get a list of IP addresses and their corresponding countries from the geolocation database\n",
        "    geoloc_data = requests.get('https://download.ip2location.com/lite/IP2LOCATION-LITE-DB1.CSV.ZIP').text\n",
        "    ip_country_map = {}\n",
        "    for line in geoloc_data.splitlines():\n",
        "        fields = line.split(',')\n",
        "        ip_address = fields[0]\n",
        "        country = fields[3]\n",
        "        ip_country_map[ip_address] = country\n",
        "\n",
        "    # Choose a random IP address from the list and return it\n",
        "    ip_address = random.choice(list(ip_country_map.keys()))\n",
        "    return ip_address\n",
        "'''"
      ],
      "metadata": {
        "id": "iORo2Lgnh7w1"
      },
      "execution_count": null,
      "outputs": []
    },
    {
      "cell_type": "code",
      "source": [
        "!pip install geoip2"
      ],
      "metadata": {
        "colab": {
          "base_uri": "https://localhost:8080/"
        },
        "id": "uyJ4Tf7kNELm",
        "outputId": "381d51e7-3cf8-4a8c-a184-a9f680b6022b"
      },
      "execution_count": null,
      "outputs": [
        {
          "output_type": "stream",
          "name": "stdout",
          "text": [
            "Looking in indexes: https://pypi.org/simple, https://us-python.pkg.dev/colab-wheels/public/simple/\n",
            "Collecting geoip2\n",
            "  Downloading geoip2-4.7.0-py2.py3-none-any.whl (26 kB)\n",
            "Collecting aiohttp<4.0.0,>=3.6.2 (from geoip2)\n",
            "  Downloading aiohttp-3.8.4-cp310-cp310-manylinux_2_17_x86_64.manylinux2014_x86_64.whl (1.0 MB)\n",
            "\u001b[2K     \u001b[90m━━━━━━━━━━━━━━━━━━━━━━━━━━━━━━━━━━━━━━━━\u001b[0m \u001b[32m1.0/1.0 MB\u001b[0m \u001b[31m64.3 MB/s\u001b[0m eta \u001b[36m0:00:00\u001b[0m\n",
            "\u001b[?25hCollecting maxminddb<3.0.0,>=2.3.0 (from geoip2)\n",
            "  Downloading maxminddb-2.3.0.tar.gz (322 kB)\n",
            "\u001b[2K     \u001b[90m━━━━━━━━━━━━━━━━━━━━━━━━━━━━━━━━━━━━━━\u001b[0m \u001b[32m322.1/322.1 kB\u001b[0m \u001b[31m37.3 MB/s\u001b[0m eta \u001b[36m0:00:00\u001b[0m\n",
            "\u001b[?25h  Installing build dependencies ... \u001b[?25l\u001b[?25hdone\n",
            "  Getting requirements to build wheel ... \u001b[?25l\u001b[?25hdone\n",
            "  Preparing metadata (pyproject.toml) ... \u001b[?25l\u001b[?25hdone\n",
            "Requirement already satisfied: requests<3.0.0,>=2.24.0 in /usr/local/lib/python3.10/dist-packages (from geoip2) (2.27.1)\n",
            "Requirement already satisfied: attrs>=17.3.0 in /usr/local/lib/python3.10/dist-packages (from aiohttp<4.0.0,>=3.6.2->geoip2) (23.1.0)\n",
            "Requirement already satisfied: charset-normalizer<4.0,>=2.0 in /usr/local/lib/python3.10/dist-packages (from aiohttp<4.0.0,>=3.6.2->geoip2) (2.0.12)\n",
            "Collecting multidict<7.0,>=4.5 (from aiohttp<4.0.0,>=3.6.2->geoip2)\n",
            "  Downloading multidict-6.0.4-cp310-cp310-manylinux_2_17_x86_64.manylinux2014_x86_64.whl (114 kB)\n",
            "\u001b[2K     \u001b[90m━━━━━━━━━━━━━━━━━━━━━━━━━━━━━━━━━━━━━━\u001b[0m \u001b[32m114.5/114.5 kB\u001b[0m \u001b[31m14.2 MB/s\u001b[0m eta \u001b[36m0:00:00\u001b[0m\n",
            "\u001b[?25hCollecting async-timeout<5.0,>=4.0.0a3 (from aiohttp<4.0.0,>=3.6.2->geoip2)\n",
            "  Downloading async_timeout-4.0.2-py3-none-any.whl (5.8 kB)\n",
            "Collecting yarl<2.0,>=1.0 (from aiohttp<4.0.0,>=3.6.2->geoip2)\n",
            "  Downloading yarl-1.9.2-cp310-cp310-manylinux_2_17_x86_64.manylinux2014_x86_64.whl (268 kB)\n",
            "\u001b[2K     \u001b[90m━━━━━━━━━━━━━━━━━━━━━━━━━━━━━━━━━━━━━━\u001b[0m \u001b[32m268.8/268.8 kB\u001b[0m \u001b[31m24.8 MB/s\u001b[0m eta \u001b[36m0:00:00\u001b[0m\n",
            "\u001b[?25hCollecting frozenlist>=1.1.1 (from aiohttp<4.0.0,>=3.6.2->geoip2)\n",
            "  Downloading frozenlist-1.3.3-cp310-cp310-manylinux_2_5_x86_64.manylinux1_x86_64.manylinux_2_17_x86_64.manylinux2014_x86_64.whl (149 kB)\n",
            "\u001b[2K     \u001b[90m━━━━━━━━━━━━━━━━━━━━━━━━━━━━━━━━━━━━━━\u001b[0m \u001b[32m149.6/149.6 kB\u001b[0m \u001b[31m17.5 MB/s\u001b[0m eta \u001b[36m0:00:00\u001b[0m\n",
            "\u001b[?25hCollecting aiosignal>=1.1.2 (from aiohttp<4.0.0,>=3.6.2->geoip2)\n",
            "  Downloading aiosignal-1.3.1-py3-none-any.whl (7.6 kB)\n",
            "Requirement already satisfied: urllib3<1.27,>=1.21.1 in /usr/local/lib/python3.10/dist-packages (from requests<3.0.0,>=2.24.0->geoip2) (1.26.15)\n",
            "Requirement already satisfied: certifi>=2017.4.17 in /usr/local/lib/python3.10/dist-packages (from requests<3.0.0,>=2.24.0->geoip2) (2022.12.7)\n",
            "Requirement already satisfied: idna<4,>=2.5 in /usr/local/lib/python3.10/dist-packages (from requests<3.0.0,>=2.24.0->geoip2) (3.4)\n",
            "Building wheels for collected packages: maxminddb\n",
            "  Building wheel for maxminddb (pyproject.toml) ... \u001b[?25l\u001b[?25hdone\n",
            "  Created wheel for maxminddb: filename=maxminddb-2.3.0-py2.py3-none-any.whl size=16397 sha256=6d43bf49c8e293a259a74bf1f32bd2a417cbda4b27a5e698d2caabbdfa82bfba\n",
            "  Stored in directory: /root/.cache/pip/wheels/f0/ee/21/5cb36d57db5f4a2551ceeb856d136c238eae839ebf30ccd707\n",
            "Successfully built maxminddb\n",
            "Installing collected packages: multidict, maxminddb, frozenlist, async-timeout, yarl, aiosignal, aiohttp, geoip2\n",
            "Successfully installed aiohttp-3.8.4 aiosignal-1.3.1 async-timeout-4.0.2 frozenlist-1.3.3 geoip2-4.7.0 maxminddb-2.3.0 multidict-6.0.4 yarl-1.9.2\n"
          ]
        }
      ]
    },
    {
      "cell_type": "code",
      "source": [
        "import socket\n",
        "import geoip2.database\n",
        "import random\n",
        "import datetime\n",
        "import struct\n",
        "import requests\n",
        "\n",
        "\n",
        "\n",
        "# Path to the GeoIP2 database file\n",
        "database_file = 'GeoLite2-Country.mmdb'\n",
        "\n",
        "reader = geoip2.database.Reader(database_file)\n",
        "\n",
        "\n",
        "def generate_ip_address():\n",
        "    # Generate a random IP address\n",
        "    ip_address = socket.inet_ntoa(struct.pack('>I', random.randint(1, 0xffffffff)))\n",
        "\n",
        "    # Lookup the country for the IP address\n",
        "    try:\n",
        "        response = reader.country(ip_address)\n",
        "        return ip_address\n",
        "    except geoip2.errors.AddressNotFoundError:\n",
        "        return generate_ip_address()\n",
        "\n",
        "\n",
        "\n",
        "def generate_timestamp():\n",
        "    \"\"\"Generate a random timestamp.\"\"\"\n",
        "    start = datetime.datetime(2022, 1, 1)\n",
        "    end = datetime.datetime(2023, 5, 14)\n",
        "    delta = end - start\n",
        "    int_delta = (delta.days * 24 * 60 * 60) + delta.seconds\n",
        "    random_second = random.randrange(int_delta)\n",
        "    return start + datetime.timedelta(seconds=random_second)\n",
        "\n",
        "def generate_request():\n",
        "    \"\"\"Generate a random request method, URL, and HTTP version.\"\"\"\n",
        "    methods = [\"GET\"] * 10 + [ \"POST\"] * 4 \n",
        "    urls = [\"olympics.com/en\",\"olympics.com/en/news/2023-asian-weightlifting-championships-preview-schedule-athletes\" ,\"olympics.com/en/sports/football\", \"olympics.com/en/sports/fencing\", \"olympics.com/en/sports/golf\", \"olympics.com/en/sports/boxing\", \"olympics.com/en/sports/basketball\",\n",
        "            \"olympics.com/en/sports/table_tennis\", \"olympics.com/en/sports/gymnastics\", \"olympics.com/en/sports/archery\", \"olympics.com/en/sports/cycling\", \n",
        "            \"olympics.com/en/news/european-breaking-championships-2023-b-boy-menno-and-b-girl-nicka-claim-gold-med\", \"olympics.com/en/news/giro-italia-2023-daily-stage-results-general-classification-standings\",\n",
        "            \"olympics.com/en/news/jai-hindley-2022-giro-italia-winner-verona\", \"olympics.com/en/video/womens-team-gb-uneven-bars-performance-tokyo-2020-games\", \n",
        "            \"olympics.com/en/video/sakamoto-kaori-interview-resilience-focus-future?uxreference=playlist\", \"olympics.com/en/video/rio-2016-lalita-babar-steeplechase-national-record?uxreference=playlist\", \n",
        "            \"olympics.com/en/olympic-games/olympic-results\", \"olympics.com/en/athletes/serena-williams\", \"olympics.com/en/athletes/yaroslava-mahuchikh\", \"olympics.com/en/athletes/filipe-toledo\", \n",
        "            \"olympics.com/en/sport-events/2023-ifma-muaythai-world-championships-bangkok/broadcasting-schedule\", \"olympics.com/en/original-series/episode/this-future-star-of-japanese-judo-is-following-in-his-father-s-footsteps-heroes-\",\n",
        "            \"olympics.com/en/original-series/episode/meet-japan-s-16-years-old-sport-climbing-sensation-heroes-of-the-future-japan?uxreference=playlist\", \"olympics.com/en/original-series/episode/kyoto-born-bmx-rider-is-going-for-glory-at-tokyo-2020-heroes-of-the-future-japan?uxreference=playlist\",\n",
        "            \"olympics.com/en/sport-events/\", \"olympics.com/en/olympic-games/tokyo-2020\", \"olympics.com/en/sport-events/2023-wr-rugby-sevens-olympic-qualifier-women-s-world-series-final-toulouse/\", \"olympics.com/en/live/\", \n",
        "            \"olympics.com/en/video/fencing-olympic-qualifier-semi-finals-finals-grand-prix-epee-cali\", \"olympics.com/en/original-series/can-t-stay-down/\", \"olympics.com/en/original-series/kids-call/\", \"olympics.com/en/original-series/winter-tracks/\", \n",
        "            \"olympics.com/en/original-series/world-at-their-feet/\", \"olympics.com/en/original-series/by-her-rules/\", \"olympics.com/en/original-series/olympic-outposts/\", \"olympics.com/en/original-series/heroes-of-the-future-japan/\", \"olympics.com/en/original-series/hockey-wizards/\", \n",
        "            \"olympics.com/en/video/sport-highlights-beijing-2022-curling-men-s-round-robin-nor-ita-day-13\",\"olympics.com/en/athletes/serena-williams\" ,\"olympics.com/en/video/indian-hockey-forward-mandeep-singh-interview?uxreference=playlist\", \"olympics.com/en/athletes/winfred-mutile-yavi\",\n",
        "            \"olympics.com/en/athletes/alaa-maso\", \"olympics.com/en/athletes/eliud-kipchoge\", \"olympics.com/en/esports/\", \"olympics.com/en/search/all/football\", \"olympics.com/en/search/all/swimming\", \"olympics.com/en/search/all/hockey\", \"olympics.com/en/search/all/boxing\", \"olympics.com/en/search/all/cycling\", \"olympics.com/en/search/all/golf\", \"olympics.com/en/search/all/fencing\", \n",
        "            \"olympics.com/en/sign-in?origin=https://olympics.com/en/esports/\", \"olympics.com/en/search/all/Katie%20ledecky\",\"olympics.com/en/search/all/Filipe%20toledo\", \"olympics.com/en/search/all/Yuto%20HORIGOME\", \"olympics.com/en/search/all/Eliud%20Kipchoge\", \"olympics.com/en/podcast/podcast-team-gb-paralympic-rowing-erin-kennedy-cancer\", \n",
        "            \"olympics.com/en/podcast/mental-health-elite-sports-podcast\", \"olympics.com/en/podcast/pau-gasol-nba-olympics-kobe-interview\", \"olympics.com/en/sport-events/muaythai-combat-preliminaries-2-world-championships-bangkok\", \"olympics.com/en/sport-events/muaythai-combat-preliminaries-2-world-championships-bangkok\",\n",
        "            \"olympics.com/en/sport-events/muaythai-combat-preliminaries-1-world-championships-bangkok\", \"olympics.com/en/sport-events/2023-fie-fencing-olympic-qualifier-grand-prix-epee-cali/\", \"olympics.com/en/olympic-games/beijing-2022\" ,\"olympics.com/en/sport-events/2023-wr-rugby-sevens-olympic-qualifier-women-s-world-series-final-toulouse/\"]\n",
        "    \n",
        "    method = random.choice(methods)\n",
        "    url = random.choice(urls)\n",
        "    return f\"{method}, {url}\"\n",
        "\n",
        "def generate_status_code():\n",
        "    \"\"\"Generate a random HTTP status code.\"\"\"\n",
        "    status_codes = [200] * 10 + [201] * 4 + [202] * 3 + [204] * 3 + [ 400, 503]\n",
        "    return random.choice(status_codes)\n",
        "\n",
        "def generate_log_entry():\n",
        "    \"\"\"Generate a random web server log entry.\"\"\"\n",
        "    ip_address = generate_ip_address()\n",
        "    timestamp = generate_timestamp()\n",
        "    request = generate_request()\n",
        "    status_code = generate_status_code()\n",
        "    return f\"{timestamp.strftime('%d/%b/%Y %H:%M:%S %z')},{ip_address}, {request},{status_code}\\n\"\n",
        "\n",
        "# Generate 1000 web server log entries and write them to a file\n",
        "with open(\"web_server_logs.txt\", \"w\") as f:\n",
        "    for i in range(5000):\n",
        "        log_entry = generate_log_entry()\n",
        "        f.write(log_entry)\n",
        "\n"
      ],
      "metadata": {
        "id": "p9xBwxJpLkh6"
      },
      "execution_count": null,
      "outputs": []
    },
    {
      "cell_type": "markdown",
      "metadata": {
        "id": "BthDwIarnjhL"
      },
      "source": [
        "**DATA UNDERSTANDING**"
      ]
    },
    {
      "cell_type": "code",
      "execution_count": null,
      "metadata": {
        "colab": {
          "base_uri": "https://localhost:8080/",
          "height": 35
        },
        "id": "wQe782eYplVI",
        "outputId": "a57f50c7-17b7-45b6-cb69-21673ed4e778"
      },
      "outputs": [
        {
          "output_type": "execute_result",
          "data": {
            "text/plain": [
              "'/content/drive/My Drive/prod_dev'"
            ],
            "application/vnd.google.colaboratory.intrinsic+json": {
              "type": "string"
            }
          },
          "metadata": {},
          "execution_count": 4
        }
      ],
      "source": [
        "os.getcwd()\n"
      ]
    },
    {
      "cell_type": "code",
      "execution_count": null,
      "metadata": {
        "id": "TkF4LNe_nzpm"
      },
      "outputs": [],
      "source": [
        "import csv\n",
        "\n",
        "with open('web_server_logs.txt', 'r') as web_logs:\n",
        "  web_txt_reader = csv.reader(web_logs, delimiter=',')\n",
        "\n",
        "  with open('web_server_logs.csv', 'w', newline= '') as csv_file:\n",
        "    web_csv_writer = csv.writer(csv_file, delimiter=',')\n",
        "\n",
        "    for row in web_txt_reader:\n",
        "      web_csv_writer.writerow(row)\n",
        "  "
      ]
    },
    {
      "cell_type": "code",
      "execution_count": null,
      "metadata": {
        "colab": {
          "base_uri": "https://localhost:8080/"
        },
        "id": "MneSESBNrjWW",
        "outputId": "e7487496-c95a-4d6f-a4cb-353ec2905a3d"
      },
      "outputs": [
        {
          "output_type": "stream",
          "name": "stdout",
          "text": [
            "object\n"
          ]
        }
      ],
      "source": [
        "import pandas as pd\n",
        "import numpy as np\n",
        "\n",
        "column_names = ['timestamp', 'ip_address', 'req_method', 'path', 'status_code']\n",
        "\n",
        "ws_logs = pd.read_csv(\"web_server_logs.csv\", names=column_names)\n",
        "\n",
        "ws_logs['status_code'] = ws_logs['status_code'].astype('str')\n",
        "\n",
        "print(ws_logs['status_code'].dtype)\n"
      ]
    },
    {
      "cell_type": "code",
      "source": [
        "ws_logs['status_code']"
      ],
      "metadata": {
        "colab": {
          "base_uri": "https://localhost:8080/"
        },
        "id": "kt_YeguMYQ4R",
        "outputId": "adb10d7e-7773-4a34-b755-96e6e87a5e37"
      },
      "execution_count": null,
      "outputs": [
        {
          "output_type": "execute_result",
          "data": {
            "text/plain": [
              "0       201\n",
              "1       503\n",
              "2       503\n",
              "3       200\n",
              "4       201\n",
              "       ... \n",
              "4995    200\n",
              "4996    200\n",
              "4997    200\n",
              "4998    202\n",
              "4999    200\n",
              "Name: status_code, Length: 5000, dtype: object"
            ]
          },
          "metadata": {},
          "execution_count": 6
        }
      ]
    },
    {
      "cell_type": "code",
      "execution_count": null,
      "metadata": {
        "colab": {
          "base_uri": "https://localhost:8080/",
          "height": 489
        },
        "id": "LKEhVlZohx8O",
        "outputId": "30e566aa-073a-4474-a9b5-6f942b8e845e"
      },
      "outputs": [
        {
          "output_type": "execute_result",
          "data": {
            "text/plain": [
              "Text(0, 0.5, 'Number of occurence')"
            ]
          },
          "metadata": {},
          "execution_count": 7
        },
        {
          "output_type": "display_data",
          "data": {
            "text/plain": [
              "<Figure size 640x480 with 1 Axes>"
            ],
            "image/png": "[encoded data removed]"
          },
          "metadata": {}
        }
      ],
      "source": [
        "import matplotlib.pyplot as plt\n",
        "\n",
        "req_meth_occur = ws_logs['req_method'].value_counts()\n",
        "plt.bar(req_meth_occur.index, req_meth_occur.values)\n",
        "\n",
        "for i, v in enumerate(req_meth_occur.values):\n",
        "  plt.text(i, v+0.1, str(v), ha='center')\n",
        "\n",
        "  \n",
        "plt.title(\"Histogram for Resquest Method\")\n",
        "plt.xlabel(\"Request methods\")\n",
        "plt.ylabel(\"Number of occurence\")\n"
      ]
    },
    {
      "cell_type": "code",
      "execution_count": null,
      "metadata": {
        "colab": {
          "base_uri": "https://localhost:8080/",
          "height": 489
        },
        "id": "xahy7ugZ_iFv",
        "outputId": "3299700f-a897-4c40-e258-323fb5cef94a"
      },
      "outputs": [
        {
          "output_type": "execute_result",
          "data": {
            "text/plain": [
              "Text(0, 0.5, 'Number of occurence')"
            ]
          },
          "metadata": {},
          "execution_count": 8
        },
        {
          "output_type": "display_data",
          "data": {
            "text/plain": [
              "<Figure size 640x480 with 1 Axes>"
            ],
            "image/png": "[encoded data removed]"
          },
          "metadata": {}
        }
      ],
      "source": [
        "status_code_occur = ws_logs['status_code'].value_counts()\n",
        "plt.bar(status_code_occur.index, status_code_occur.values)\n",
        "\n",
        "for i, v in enumerate(status_code_occur.values):\n",
        "  plt.text(i, v+0.1, str(v), ha='center')\n",
        "\n",
        "  \n",
        "plt.title(\"Histogram for Status Code\")\n",
        "plt.xlabel(\"Request methods\")\n",
        "plt.ylabel(\"Number of occurence\")\n"
      ]
    },
    {
      "cell_type": "markdown",
      "source": [
        "**DATA PREPARATION**"
      ],
      "metadata": {
        "id": "4v1itvFw-Jo2"
      }
    },
    {
      "cell_type": "markdown",
      "source": [
        "Generate the country column based on ip address"
      ],
      "metadata": {
        "id": "lacv7RRTtEjr"
      }
    },
    {
      "cell_type": "code",
      "execution_count": null,
      "metadata": {
        "colab": {
          "base_uri": "https://localhost:8080/"
        },
        "id": "dLfDZt0M-PMo",
        "outputId": "38657869-a095-431e-bdd9-bab416f6e2d1"
      },
      "outputs": [
        {
          "output_type": "stream",
          "name": "stdout",
          "text": [
            "Looking in indexes: https://pypi.org/simple, https://us-python.pkg.dev/colab-wheels/public/simple/\n",
            "Requirement already satisfied: geoip2 in /usr/local/lib/python3.10/dist-packages (4.7.0)\n",
            "Requirement already satisfied: aiohttp<4.0.0,>=3.6.2 in /usr/local/lib/python3.10/dist-packages (from geoip2) (3.8.4)\n",
            "Requirement already satisfied: maxminddb<3.0.0,>=2.3.0 in /usr/local/lib/python3.10/dist-packages (from geoip2) (2.3.0)\n",
            "Requirement already satisfied: requests<3.0.0,>=2.24.0 in /usr/local/lib/python3.10/dist-packages (from geoip2) (2.27.1)\n",
            "Requirement already satisfied: attrs>=17.3.0 in /usr/local/lib/python3.10/dist-packages (from aiohttp<4.0.0,>=3.6.2->geoip2) (23.1.0)\n",
            "Requirement already satisfied: charset-normalizer<4.0,>=2.0 in /usr/local/lib/python3.10/dist-packages (from aiohttp<4.0.0,>=3.6.2->geoip2) (2.0.12)\n",
            "Requirement already satisfied: multidict<7.0,>=4.5 in /usr/local/lib/python3.10/dist-packages (from aiohttp<4.0.0,>=3.6.2->geoip2) (6.0.4)\n",
            "Requirement already satisfied: async-timeout<5.0,>=4.0.0a3 in /usr/local/lib/python3.10/dist-packages (from aiohttp<4.0.0,>=3.6.2->geoip2) (4.0.2)\n",
            "Requirement already satisfied: yarl<2.0,>=1.0 in /usr/local/lib/python3.10/dist-packages (from aiohttp<4.0.0,>=3.6.2->geoip2) (1.9.2)\n",
            "Requirement already satisfied: frozenlist>=1.1.1 in /usr/local/lib/python3.10/dist-packages (from aiohttp<4.0.0,>=3.6.2->geoip2) (1.3.3)\n",
            "Requirement already satisfied: aiosignal>=1.1.2 in /usr/local/lib/python3.10/dist-packages (from aiohttp<4.0.0,>=3.6.2->geoip2) (1.3.1)\n",
            "Requirement already satisfied: urllib3<1.27,>=1.21.1 in /usr/local/lib/python3.10/dist-packages (from requests<3.0.0,>=2.24.0->geoip2) (1.26.15)\n",
            "Requirement already satisfied: certifi>=2017.4.17 in /usr/local/lib/python3.10/dist-packages (from requests<3.0.0,>=2.24.0->geoip2) (2022.12.7)\n",
            "Requirement already satisfied: idna<4,>=2.5 in /usr/local/lib/python3.10/dist-packages (from requests<3.0.0,>=2.24.0->geoip2) (3.4)\n"
          ]
        }
      ],
      "source": [
        "!pip install geoip2"
      ]
    },
    {
      "cell_type": "code",
      "execution_count": null,
      "metadata": {
        "id": "q2Va0CAPCssd"
      },
      "outputs": [],
      "source": [
        "import geoip2.database\n",
        "\n",
        "def get_country(ip_address):\n",
        "  reader = geoip2.database.Reader('GeoLite2-Country.mmdb')\n",
        "\n",
        "  try:\n",
        "    response = reader.country(ip_address)\n",
        "\n",
        "    country = response.country.name\n",
        "\n",
        "    return country\n",
        "  except geoip2.errors.AddressNotFoundError:\n",
        "    return \"Unknown\"\n",
        "\n",
        "\n",
        "\n"
      ]
    },
    {
      "cell_type": "code",
      "source": [
        "countries = []\n",
        "for x in ws_logs['ip_address']:\n",
        "  xy = get_country(x)\n",
        "  countries.append(xy)\n",
        "  \n",
        "ws_logs['country'] = countries"
      ],
      "metadata": {
        "id": "01QLdQKWn82t"
      },
      "execution_count": null,
      "outputs": []
    },
    {
      "cell_type": "code",
      "source": [
        "ws_logs"
      ],
      "metadata": {
        "colab": {
          "base_uri": "https://localhost:8080/",
          "height": 641
        },
        "id": "Aebgo_-EiLIj",
        "outputId": "a2ed0a40-46e8-499c-afe0-84de1e40b1bb"
      },
      "execution_count": null,
      "outputs": [
        {
          "output_type": "execute_result",
          "data": {
            "text/plain": [
              "                  timestamp       ip_address req_method  \\\n",
              "0     25/Apr/2023 21:11:48     143.76.22.128       POST   \n",
              "1     19/Jan/2023 09:06:27      93.51.60.137        GET   \n",
              "2     02/Feb/2023 01:20:35     80.81.167.218        GET   \n",
              "3     25/Mar/2023 03:25:11     85.184.21.254        GET   \n",
              "4     10/Apr/2023 22:52:42       89.82.90.45        GET   \n",
              "...                     ...              ...        ...   \n",
              "4995  16/Jan/2023 18:45:49   205.143.141.206        GET   \n",
              "4996  10/Apr/2023 03:08:24    197.65.236.154        GET   \n",
              "4997  08/Jan/2023 07:13:49     100.141.206.3        GET   \n",
              "4998  29/Mar/2023 14:27:59   134.209.112.189        GET   \n",
              "4999  04/Feb/2023 19:57:40   158.155.206.120        GET   \n",
              "\n",
              "                                                   path status_code  \\\n",
              "0      olympics.com/en/podcast/mental-health-elite-s...         201   \n",
              "1      olympics.com/en/sport-events/muaythai-combat-...         503   \n",
              "2      olympics.com/en/video/sakamoto-kaori-intervie...         503   \n",
              "3                         olympics.com/en/sport-events/         200   \n",
              "4      olympics.com/en/podcast/pau-gasol-nba-olympic...         201   \n",
              "...                                                 ...         ...   \n",
              "4995   olympics.com/en/video/womens-team-gb-uneven-b...         200   \n",
              "4996   olympics.com/en/video/indian-hockey-forward-m...         200   \n",
              "4997                 olympics.com/en/athletes/alaa-maso         200   \n",
              "4998   olympics.com/en/video/sport-highlights-beijin...         202   \n",
              "4999                olympics.com/en/search/all/football         200   \n",
              "\n",
              "            country  \n",
              "0     United States  \n",
              "1             Italy  \n",
              "2           Finland  \n",
              "3           Czechia  \n",
              "4            France  \n",
              "...             ...  \n",
              "4995  United States  \n",
              "4996   South Africa  \n",
              "4997  United States  \n",
              "4998  United States  \n",
              "4999  United States  \n",
              "\n",
              "[5000 rows x 6 columns]"
            ],
            "text/html": [
              "\n",
              "  <div id=\"df-f60e36be-ff74-41a3-b2ad-b030d6429e18\">\n",
              "    <div class=\"colab-df-container\">\n",
              "      <div>\n",
              "<style scoped>\n",
              "    .dataframe tbody tr th:only-of-type {\n",
              "        vertical-align: middle;\n",
              "    }\n",
              "\n",
              "    .dataframe tbody tr th {\n",
              "        vertical-align: top;\n",
              "    }\n",
              "\n",
              "    .dataframe thead th {\n",
              "        text-align: right;\n",
              "    }\n",
              "</style>\n",
              "<table border=\"1\" class=\"dataframe\">\n",
              "  <thead>\n",
              "    <tr style=\"text-align: right;\">\n",
              "      <th></th>\n",
              "      <th>timestamp</th>\n",
              "      <th>ip_address</th>\n",
              "      <th>req_method</th>\n",
              "      <th>path</th>\n",
              "      <th>status_code</th>\n",
              "      <th>country</th>\n",
              "    </tr>\n",
              "  </thead>\n",
              "  <tbody>\n",
              "    <tr>\n",
              "      <th>0</th>\n",
              "      <td>25/Apr/2023 21:11:48</td>\n",
              "      <td>143.76.22.128</td>\n",
              "      <td>POST</td>\n",
              "      <td>olympics.com/en/podcast/mental-health-elite-s...</td>\n",
              "      <td>201</td>\n",
              "      <td>United States</td>\n",
              "    </tr>\n",
              "    <tr>\n",
              "      <th>1</th>\n",
              "      <td>19/Jan/2023 09:06:27</td>\n",
              "      <td>93.51.60.137</td>\n",
              "      <td>GET</td>\n",
              "      <td>olympics.com/en/sport-events/muaythai-combat-...</td>\n",
              "      <td>503</td>\n",
              "      <td>Italy</td>\n",
              "    </tr>\n",
              "    <tr>\n",
              "      <th>2</th>\n",
              "      <td>02/Feb/2023 01:20:35</td>\n",
              "      <td>80.81.167.218</td>\n",
              "      <td>GET</td>\n",
              "      <td>olympics.com/en/video/sakamoto-kaori-intervie...</td>\n",
              "      <td>503</td>\n",
              "      <td>Finland</td>\n",
              "    </tr>\n",
              "    <tr>\n",
              "      <th>3</th>\n",
              "      <td>25/Mar/2023 03:25:11</td>\n",
              "      <td>85.184.21.254</td>\n",
              "      <td>GET</td>\n",
              "      <td>olympics.com/en/sport-events/</td>\n",
              "      <td>200</td>\n",
              "      <td>Czechia</td>\n",
              "    </tr>\n",
              "    <tr>\n",
              "      <th>4</th>\n",
              "      <td>10/Apr/2023 22:52:42</td>\n",
              "      <td>89.82.90.45</td>\n",
              "      <td>GET</td>\n",
              "      <td>olympics.com/en/podcast/pau-gasol-nba-olympic...</td>\n",
              "      <td>201</td>\n",
              "      <td>France</td>\n",
              "    </tr>\n",
              "    <tr>\n",
              "      <th>...</th>\n",
              "      <td>...</td>\n",
              "      <td>...</td>\n",
              "      <td>...</td>\n",
              "      <td>...</td>\n",
              "      <td>...</td>\n",
              "      <td>...</td>\n",
              "    </tr>\n",
              "    <tr>\n",
              "      <th>4995</th>\n",
              "      <td>16/Jan/2023 18:45:49</td>\n",
              "      <td>205.143.141.206</td>\n",
              "      <td>GET</td>\n",
              "      <td>olympics.com/en/video/womens-team-gb-uneven-b...</td>\n",
              "      <td>200</td>\n",
              "      <td>United States</td>\n",
              "    </tr>\n",
              "    <tr>\n",
              "      <th>4996</th>\n",
              "      <td>10/Apr/2023 03:08:24</td>\n",
              "      <td>197.65.236.154</td>\n",
              "      <td>GET</td>\n",
              "      <td>olympics.com/en/video/indian-hockey-forward-m...</td>\n",
              "      <td>200</td>\n",
              "      <td>South Africa</td>\n",
              "    </tr>\n",
              "    <tr>\n",
              "      <th>4997</th>\n",
              "      <td>08/Jan/2023 07:13:49</td>\n",
              "      <td>100.141.206.3</td>\n",
              "      <td>GET</td>\n",
              "      <td>olympics.com/en/athletes/alaa-maso</td>\n",
              "      <td>200</td>\n",
              "      <td>United States</td>\n",
              "    </tr>\n",
              "    <tr>\n",
              "      <th>4998</th>\n",
              "      <td>29/Mar/2023 14:27:59</td>\n",
              "      <td>134.209.112.189</td>\n",
              "      <td>GET</td>\n",
              "      <td>olympics.com/en/video/sport-highlights-beijin...</td>\n",
              "      <td>202</td>\n",
              "      <td>United States</td>\n",
              "    </tr>\n",
              "    <tr>\n",
              "      <th>4999</th>\n",
              "      <td>04/Feb/2023 19:57:40</td>\n",
              "      <td>158.155.206.120</td>\n",
              "      <td>GET</td>\n",
              "      <td>olympics.com/en/search/all/football</td>\n",
              "      <td>200</td>\n",
              "      <td>United States</td>\n",
              "    </tr>\n",
              "  </tbody>\n",
              "</table>\n",
              "<p>5000 rows × 6 columns</p>\n",
              "</div>\n",
              "      <button class=\"colab-df-convert\" onclick=\"convertToInteractive('df-f60e36be-ff74-41a3-b2ad-b030d6429e18')\"\n",
              "              title=\"Convert this dataframe to an interactive table.\"\n",
              "              style=\"display:none;\">\n",
              "        \n",
              "  <svg xmlns=\"http://www.w3.org/2000/svg\" height=\"24px\"viewBox=\"0 0 24 24\"\n",
              "       width=\"24px\">\n",
              "    <path d=\"M0 0h24v24H0V0z\" fill=\"none\"/>\n",
              "    <path d=\"M18.56 5.44l.94 2.06.94-2.06 2.06-.94-2.06-.94-.94-2.06-.94 2.06-2.06.94zm-11 1L8.5 8.5l.94-2.06 2.06-.94-2.06-.94L8.5 2.5l-.94 2.06-2.06.94zm10 10l.94 2.06.94-2.06 2.06-.94-2.06-.94-.94-2.06-.94 2.06-2.06.94z\"/><path d=\"M17.41 7.96l-1.37-1.37c-.4-.4-.92-.59-1.43-.59-.52 0-1.04.2-1.43.59L10.3 9.45l-7.72 7.72c-.78.78-.78 2.05 0 2.83L4 21.41c.39.39.9.59 1.41.59.51 0 1.02-.2 1.41-.59l7.78-7.78 2.81-2.81c.8-.78.8-2.07 0-2.86zM5.41 20L4 18.59l7.72-7.72 1.47 1.35L5.41 20z\"/>\n",
              "  </svg>\n",
              "      </button>\n",
              "      \n",
              "  <style>\n",
              "    .colab-df-container {\n",
              "      display:flex;\n",
              "      flex-wrap:wrap;\n",
              "      gap: 12px;\n",
              "    }\n",
              "\n",
              "    .colab-df-convert {\n",
              "      background-color: #E8F0FE;\n",
              "      border: none;\n",
              "      border-radius: 50%;\n",
              "      cursor: pointer;\n",
              "      display: none;\n",
              "      fill: #1967D2;\n",
              "      height: 32px;\n",
              "      padding: 0 0 0 0;\n",
              "      width: 32px;\n",
              "    }\n",
              "\n",
              "    .colab-df-convert:hover {\n",
              "      background-color: #E2EBFA;\n",
              "      box-shadow: 0px 1px 2px rgba(60, 64, 67, 0.3), 0px 1px 3px 1px rgba(60, 64, 67, 0.15);\n",
              "      fill: #174EA6;\n",
              "    }\n",
              "\n",
              "    [theme=dark] .colab-df-convert {\n",
              "      background-color: #3B4455;\n",
              "      fill: #D2E3FC;\n",
              "    }\n",
              "\n",
              "    [theme=dark] .colab-df-convert:hover {\n",
              "      background-color: #434B5C;\n",
              "      box-shadow: 0px 1px 3px 1px rgba(0, 0, 0, 0.15);\n",
              "      filter: drop-shadow(0px 1px 2px rgba(0, 0, 0, 0.3));\n",
              "      fill: #FFFFFF;\n",
              "    }\n",
              "  </style>\n",
              "\n",
              "      <script>\n",
              "        const buttonEl =\n",
              "          document.querySelector('#df-f60e36be-ff74-41a3-b2ad-b030d6429e18 button.colab-df-convert');\n",
              "        buttonEl.style.display =\n",
              "          google.colab.kernel.accessAllowed ? 'block' : 'none';\n",
              "\n",
              "        async function convertToInteractive(key) {\n",
              "          const element = document.querySelector('#df-f60e36be-ff74-41a3-b2ad-b030d6429e18');\n",
              "          const dataTable =\n",
              "            await google.colab.kernel.invokeFunction('convertToInteractive',\n",
              "                                                     [key], {});\n",
              "          if (!dataTable) return;\n",
              "\n",
              "          const docLinkHtml = 'Like what you see? Visit the ' +\n",
              "            '<a target=\"_blank\" href=https://colab.research.google.com/notebooks/data_table.ipynb>data table notebook</a>'\n",
              "            + ' to learn more about interactive tables.';\n",
              "          element.innerHTML = '';\n",
              "          dataTable['output_type'] = 'display_data';\n",
              "          await google.colab.output.renderOutput(dataTable, element);\n",
              "          const docLink = document.createElement('div');\n",
              "          docLink.innerHTML = docLinkHtml;\n",
              "          element.appendChild(docLink);\n",
              "        }\n",
              "      </script>\n",
              "    </div>\n",
              "  </div>\n",
              "  "
            ]
          },
          "metadata": {},
          "execution_count": 44
        }
      ]
    },
    {
      "cell_type": "code",
      "source": [
        "country_occur = ws_logs['country'][:20].value_counts()\n",
        "plt.bar(country_occur.index, country_occur.values)\n",
        "\n",
        "for i, v in enumerate(country_occur.values):\n",
        "  plt.text(i, v+0.1, str(v), ha='center')\n",
        "\n",
        "  \n",
        "plt.title(\"Histogram for HTTP Versions\")\n",
        "plt.xlabel(\"HTTP Version\")\n",
        "plt.ylabel(\"Number of occurence\")"
      ],
      "metadata": {
        "colab": {
          "base_uri": "https://localhost:8080/",
          "height": 489
        },
        "id": "y3S2iseaJqs1",
        "outputId": "de62fb3e-2b81-442f-c79a-1f71af84897f"
      },
      "execution_count": null,
      "outputs": [
        {
          "output_type": "execute_result",
          "data": {
            "text/plain": [
              "Text(0, 0.5, 'Number of occurence')"
            ]
          },
          "metadata": {},
          "execution_count": 12
        },
        {
          "output_type": "display_data",
          "data": {
            "text/plain": [
              "<Figure size 640x480 with 1 Axes>"
            ],
            "image/png": "[encoded data removed]"
          },
          "metadata": {}
        }
      ]
    },
    {
      "cell_type": "markdown",
      "source": [
        "The navigation part of it"
      ],
      "metadata": {
        "id": "RlhnyU2ouFsq"
      }
    },
    {
      "cell_type": "code",
      "source": [
        "ws_logs['path']"
      ],
      "metadata": {
        "colab": {
          "base_uri": "https://localhost:8080/"
        },
        "id": "JOIsGfBBelzO",
        "outputId": "0c71e8dd-8a78-4c0a-923d-9b80cf875a9c"
      },
      "execution_count": null,
      "outputs": [
        {
          "output_type": "execute_result",
          "data": {
            "text/plain": [
              "0        olympics.com/en/podcast/mental-health-elite-s...\n",
              "1        olympics.com/en/sport-events/muaythai-combat-...\n",
              "2        olympics.com/en/video/sakamoto-kaori-intervie...\n",
              "3                           olympics.com/en/sport-events/\n",
              "4        olympics.com/en/podcast/pau-gasol-nba-olympic...\n",
              "                              ...                        \n",
              "4995     olympics.com/en/video/womens-team-gb-uneven-b...\n",
              "4996     olympics.com/en/video/indian-hockey-forward-m...\n",
              "4997                   olympics.com/en/athletes/alaa-maso\n",
              "4998     olympics.com/en/video/sport-highlights-beijin...\n",
              "4999                  olympics.com/en/search/all/football\n",
              "Name: path, Length: 5000, dtype: object"
            ]
          },
          "metadata": {},
          "execution_count": 13
        }
      ]
    },
    {
      "cell_type": "code",
      "source": [
        "paths = ws_logs['path']\n",
        "home = []\n",
        "lang = []\n",
        "nav = []\n",
        "content = []\n",
        "content2 = []\n",
        "content3 = []\n",
        "\n",
        "for path in paths:\n",
        "  components = path.split('/')\n",
        "  \n",
        "  home.append(components[0])\n",
        "  lang.append(components[1])\n",
        "  nav.append(components[2]) if len(components) >= 3 else nav.append('None')\n",
        "  content.append(components[3]) if len(components) >= 4 else content.append('None')\n",
        "  content2.append(components[4]) if len(components) >= 5 else content2.append('None')\n",
        "  content3.append(components[5]) if len(components) >= 6 else content3.append('None')\n",
        "\n",
        "\n",
        "  '''for component in components:\n",
        "    home = component[0]'''\n",
        "  \n"
      ],
      "metadata": {
        "id": "xIq0eELp0hXD"
      },
      "execution_count": null,
      "outputs": []
    },
    {
      "cell_type": "code",
      "source": [
        "ws_logs['Home'] = home\n",
        "ws_logs['Language'] = lang\n",
        "ws_logs['Navigation'] = nav\n",
        "ws_logs['Content'] = content\n",
        "ws_logs['Content2'] = content2\n",
        "ws_logs['Content3'] = content3\n"
      ],
      "metadata": {
        "id": "mxRhEid2g40Q"
      },
      "execution_count": null,
      "outputs": []
    },
    {
      "cell_type": "markdown",
      "source": [
        "**Split Date and time**"
      ],
      "metadata": {
        "id": "vVgi8qpzo_mB"
      }
    },
    {
      "cell_type": "code",
      "source": [
        "ws_logs['timestamp']"
      ],
      "metadata": {
        "colab": {
          "base_uri": "https://localhost:8080/"
        },
        "id": "EPw4NeJqmKci",
        "outputId": "ffc43a8a-6e1c-4034-dff2-97527634c642"
      },
      "execution_count": null,
      "outputs": [
        {
          "output_type": "execute_result",
          "data": {
            "text/plain": [
              "0       25/Apr/2023 21:11:48 \n",
              "1       19/Jan/2023 09:06:27 \n",
              "2       02/Feb/2023 01:20:35 \n",
              "3       25/Mar/2023 03:25:11 \n",
              "4       10/Apr/2023 22:52:42 \n",
              "                ...          \n",
              "4995    16/Jan/2023 18:45:49 \n",
              "4996    10/Apr/2023 03:08:24 \n",
              "4997    08/Jan/2023 07:13:49 \n",
              "4998    29/Mar/2023 14:27:59 \n",
              "4999    04/Feb/2023 19:57:40 \n",
              "Name: timestamp, Length: 5000, dtype: object"
            ]
          },
          "metadata": {},
          "execution_count": 16
        }
      ]
    },
    {
      "cell_type": "code",
      "source": [
        "dates = []\n",
        "times = []\n",
        "dates_times = ws_logs['timestamp']\n",
        "for day_time in dates_times:\n",
        "  date = day_time.split(' ')[0]\n",
        "  time = day_time.split(' ')[1]\n",
        "  dates.append(date)\n",
        "  times.append(time)\n",
        "  \n"
      ],
      "metadata": {
        "id": "PowkL049pLvg"
      },
      "execution_count": null,
      "outputs": []
    },
    {
      "cell_type": "code",
      "source": [
        "ws_logs['Date'] = dates\n",
        "ws_logs['Time'] = times\n",
        "ws_logs['Time'].info()"
      ],
      "metadata": {
        "colab": {
          "base_uri": "https://localhost:8080/"
        },
        "id": "AvMyk0zGp1OI",
        "outputId": "af9e5eef-906c-468c-9053-c69c93b55b00"
      },
      "execution_count": null,
      "outputs": [
        {
          "output_type": "stream",
          "name": "stdout",
          "text": [
            "<class 'pandas.core.series.Series'>\n",
            "RangeIndex: 5000 entries, 0 to 4999\n",
            "Series name: Time\n",
            "Non-Null Count  Dtype \n",
            "--------------  ----- \n",
            "5000 non-null   object\n",
            "dtypes: object(1)\n",
            "memory usage: 39.2+ KB\n"
          ]
        }
      ]
    },
    {
      "cell_type": "code",
      "source": [
        "ws_logs['Date'] = pd.to_datetime(ws_logs['Date'])\n",
        "ws_logs['Time'] = pd.to_datetime(ws_logs['Time'])\n",
        "\n",
        "ws_logs['Time'] = ws_logs['Time'].dt.strftime('%H:%M')\n",
        "ws_logs"
      ],
      "metadata": {
        "id": "l1eV5cCdrj7h"
      },
      "execution_count": null,
      "outputs": []
    },
    {
      "cell_type": "code",
      "source": [
        "ws_logs['Month'] = ws_logs['Date'].dt.month_name()"
      ],
      "metadata": {
        "id": "lhmSIv05KNPm"
      },
      "execution_count": null,
      "outputs": []
    },
    {
      "cell_type": "code",
      "source": [],
      "metadata": {
        "colab": {
          "base_uri": "https://localhost:8080/"
        },
        "id": "dgM2W1TWKrdj",
        "outputId": "c2377157-8327-488d-cbe2-61ea8ac96125"
      },
      "execution_count": null,
      "outputs": [
        {
          "output_type": "execute_result",
          "data": {
            "text/plain": [
              "0          April\n",
              "1        January\n",
              "2       February\n",
              "3          March\n",
              "4          April\n",
              "          ...   \n",
              "4995     January\n",
              "4996       April\n",
              "4997     January\n",
              "4998       March\n",
              "4999    February\n",
              "Name: Date, Length: 5000, dtype: object"
            ]
          },
          "metadata": {},
          "execution_count": 25
        }
      ]
    },
    {
      "cell_type": "code",
      "source": [
        "with open('Final_web_logs.csv', 'w', newline='') as file:\n",
        "  ws_logs.to_csv('Final_web_logs.csv', index=False)"
      ],
      "metadata": {
        "id": "U8mCgME3i7lJ"
      },
      "execution_count": null,
      "outputs": []
    }
  ],
  "metadata": {
    "colab": {
      "provenance": [],
      "gpuType": "T4"
    },
    "kernelspec": {
      "display_name": "Python 3",
      "name": "python3"
    },
    "language_info": {
      "name": "python"
    },
    "accelerator": "GPU",
    "gpuClass": "standard"
  },
  "nbformat": 4,
  "nbformat_minor": 0
}